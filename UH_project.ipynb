{
  "nbformat": 4,
  "nbformat_minor": 0,
  "metadata": {
    "colab": {
      "provenance": [],
      "authorship_tag": "ABX9TyPYLhtkSf0uIXz+mA4sX15R",
      "include_colab_link": true
    },
    "kernelspec": {
      "name": "python3",
      "display_name": "Python 3"
    },
    "language_info": {
      "name": "python"
    }
  },
  "cells": [
    {
      "cell_type": "markdown",
      "metadata": {
        "id": "view-in-github",
        "colab_type": "text"
      },
      "source": [
        "<a href=\"https://colab.research.google.com/github/Renanakada/Projecy-LLM-/blob/main/UH_project.ipynb\" target=\"_parent\"><img src=\"https://colab.research.google.com/assets/colab-badge.svg\" alt=\"Open In Colab\"/></a>"
      ]
    },
    {
      "cell_type": "code",
      "execution_count": null,
      "metadata": {
        "id": "KJVa3rHFu1te"
      },
      "outputs": [],
      "source": [
        "from sklearn import metrics"
      ]
    },
    {
      "cell_type": "code",
      "source": [
        "#Evaluating Models\n",
        "conf_matrix = metrics.confusion_matrix(y_test, y_pred)\n",
        "tp, fn, fp, tn = conf_matrix.ravel()\n",
        "\n",
        "#Accuracy\n",
        "accuracy = (tp + tn)/(tp + fp + fn + tn)\n",
        "print('Accuracy: ', accuracy)\n",
        "accuracy = metrics.accuracy_score(y_test, y_pred) #Just to test\n",
        "print('Accuracy: ', accuracy)\n",
        "\n",
        "#Sensitivity and Specificity\n",
        "sensitivity = tp / (tp+fn)\n",
        "specificity = tn / (tn+fp)\n",
        "print('Sensitivity: ', sensitivity)\n",
        "print('Specificity: ', specificity)\n",
        "\n",
        "#F1 Score\n",
        "f1 = (2*tp) / (2*tp + fp + fn)\n",
        "print('F1 Score: ', f1)\n",
        "\n",
        "#Precision\n",
        "precision = tp / (tp + fp)\n",
        "print('Precision: ', precision)\n",
        "\n",
        "#Recall\n",
        "recall = tp / (tp + fn)\n",
        "print('Recall: ', recall)\n"
      ],
      "metadata": {
        "id": "POdVprpGwRqO"
      },
      "execution_count": null,
      "outputs": []
    },
    {
      "cell_type": "markdown",
      "source": [
        "What we want\n",
        "- High accuracy\n",
        "- High f1 score\n",
        "- High precision\n",
        "- High recall"
      ],
      "metadata": {
        "id": "b-bcBd98aW2u"
      }
    }
  ]
}